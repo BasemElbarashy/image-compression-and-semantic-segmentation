{
 "cells": [
  {
   "cell_type": "code",
   "execution_count": 1,
   "metadata": {},
   "outputs": [
    {
     "name": "stdout",
     "output_type": "stream",
     "text": [
      "\n",
      "WARNING: The TensorFlow contrib module will not be included in TensorFlow 2.0.\n",
      "For more information, please see:\n",
      "  * https://github.com/tensorflow/community/blob/master/rfcs/20180907-contrib-sunset.md\n",
      "  * https://github.com/tensorflow/addons\n",
      "If you depend on functionality not listed there, please file an issue.\n",
      "\n"
     ]
    }
   ],
   "source": [
    "import six\n",
    "import tensorflow as tf\n",
    "import matplotlib.pyplot as plt\n",
    "from tensorflow.python.ops import math_ops\n",
    "from deeplab import common\n",
    "from deeplab import model\n",
    "from deeplab.datasets import data_generator\n",
    "from deeplab.utils import train_utils\n",
    "import os\n",
    "from deeplab.utils import get_dataset_colormap\n",
    "from seg_exp import seg_encoder, seg_decoder\n",
    "from bls2017_comp_seg import build_model\n",
    "import numpy as np"
   ]
  },
  {
   "cell_type": "code",
   "execution_count": 2,
   "metadata": {},
   "outputs": [
    {
     "name": "stdout",
     "output_type": "stream",
     "text": [
      "WARNING:tensorflow:Please specify a model_variant. See feature_extractor.network_map for supported model variants.\n",
      "WARNING:tensorflow:From /home/belbarashy/benv/lib/python3.5/site-packages/tensorflow/python/ops/control_flow_ops.py:423: colocate_with (from tensorflow.python.framework.ops) is deprecated and will be removed in a future version.\n",
      "Instructions for updating:\n",
      "Colocations handled automatically by placer.\n",
      "WARNING:tensorflow:Default mean-subtraction is performed. Please specify a model_variant. See feature_extractor.network_map for supported model variants.\n",
      "WARNING:tensorflow:From /home/belbarashy/compression-1.1/examples/bls2017_comp_seg.py:232: to_float (from tensorflow.python.ops.math_ops) is deprecated and will be removed in a future version.\n",
      "Instructions for updating:\n",
      "Use tf.cast instead.\n",
      "WARNING:tensorflow:From /home/belbarashy/compression-1.1/examples/seg_exp.py:215: conv2d (from tensorflow.python.layers.convolutional) is deprecated and will be removed in a future version.\n",
      "Instructions for updating:\n",
      "Use keras.layers.conv2d instead.\n",
      "WARNING:tensorflow:From /home/belbarashy/compression-1.1/examples/seg_exp.py:218: batch_normalization (from tensorflow.python.layers.normalization) is deprecated and will be removed in a future version.\n",
      "Instructions for updating:\n",
      "Use keras.layers.batch_normalization instead.\n",
      "WARNING:tensorflow:From /home/belbarashy/compression-1.1/examples/seg_exp.py:247: dropout (from tensorflow.python.layers.core) is deprecated and will be removed in a future version.\n",
      "Instructions for updating:\n",
      "Use keras.layers.dropout instead.\n"
     ]
    }
   ],
   "source": [
    "os.environ[\"CUDA_VISIBLE_DEVICES\"] = '0'\n",
    "tf.logging.set_verbosity(tf.logging.INFO)\n",
    "\n",
    "dataset = data_generator.Dataset(\n",
    "      dataset_name='cityscapes',\n",
    "      split_name='val',\n",
    "      dataset_dir='/datatmp/Experiments/belbarashy/datasets/Cityscapes/tfrecord/',\n",
    "      batch_size=1,\n",
    "      crop_size=[int(sz) for sz in [1024,2048]],\n",
    "      min_resize_value=None,\n",
    "      max_resize_value=None,\n",
    "      resize_factor=None,\n",
    "      model_variant=None,\n",
    "      num_readers=2,\n",
    "      is_training=False,\n",
    "      should_shuffle=False,\n",
    "      should_repeat=False)\n",
    "\n",
    "samples = dataset.get_one_shot_iterator().get_next()\n",
    "in_imgs = samples['image']/255\n",
    "depth   = samples['depth'] /255\n",
    "labels  = samples['label']  # channel=1\n",
    "num_classes = dataset.num_of_classes\n",
    "\"\"\"\n",
    "use_skip = True\n",
    "use_skip_1by1 = True\n",
    "latents, skip = seg_encoder('Encoder', in_imgs, training=False)\n",
    "\n",
    "if use_skip_1by1:\n",
    "    skip = tf.layers.conv2d(inputs=skip,filters=32,kernel_size=[1,1],strides = (1,1),use_bias = False,padding=\"same\")\n",
    "if not use_skip:\n",
    "    skip = None\n",
    "\n",
    "logits = seg_decoder('Decoder', latents, training=False, num_classes=num_classes, skip=skip)\n",
    "\"\"\"\n",
    "_, eval_bpp, _, x_hat, y_hat, y, string, _, seg_logits, seg_loss = \\\n",
    "build_model(in_imgs, depth, None, num_classes, mode='testing')\n",
    "\n",
    "\n",
    "if seg_logits is not None:\n",
    "    predictions = tf.argmax(seg_logits, 3) # batch*H*W*1\n",
    "else:\n",
    "    predictions = x_hat\n",
    "#predictions = tf.reshape(predictions, shape=[-1])\n",
    "#labels = tf.reshape(labels, shape=[-1])"
   ]
  },
  {
   "cell_type": "code",
   "execution_count": 3,
   "metadata": {},
   "outputs": [
    {
     "name": "stdout",
     "output_type": "stream",
     "text": [
      "/datatmp/Experiments/belbarashy/exps/seg_comp_rgb_d_downby2/lambda_1.0/model.ckpt-200000\n",
      "WARNING:tensorflow:From /home/belbarashy/benv/lib/python3.5/site-packages/tensorflow/python/training/saver.py:1266: checkpoint_exists (from tensorflow.python.training.checkpoint_management) is deprecated and will be removed in a future version.\n",
      "Instructions for updating:\n",
      "Use standard file APIs to check for files with this prefix.\n",
      "INFO:tensorflow:Restoring parameters from /datatmp/Experiments/belbarashy/exps/seg_comp_rgb_d_downby2/lambda_1.0/model.ckpt-200000\n",
      "(1, 1024, 2048, 1)\n",
      "(1, 1024, 2048)\n",
      "(1024, 2048)\n",
      "(1024, 2048)\n"
     ]
    },
    {
     "ename": "IndexError",
     "evalue": "tuple index out of range",
     "output_type": "error",
     "traceback": [
      "\u001b[0;31m---------------------------------------------------------------------------\u001b[0m",
      "\u001b[0;31mIndexError\u001b[0m                                Traceback (most recent call last)",
      "\u001b[0;32m<ipython-input-3-5938ce228b25>\u001b[0m in \u001b[0;36m<module>\u001b[0;34m\u001b[0m\n\u001b[1;32m     18\u001b[0m \u001b[0mprint\u001b[0m\u001b[0;34m(\u001b[0m\u001b[0ml\u001b[0m\u001b[0;34m.\u001b[0m\u001b[0mshape\u001b[0m\u001b[0;34m)\u001b[0m\u001b[0;34m\u001b[0m\u001b[0m\n\u001b[1;32m     19\u001b[0m \u001b[0mprint\u001b[0m\u001b[0;34m(\u001b[0m\u001b[0mp\u001b[0m\u001b[0;34m.\u001b[0m\u001b[0mshape\u001b[0m\u001b[0;34m)\u001b[0m\u001b[0;34m\u001b[0m\u001b[0m\n\u001b[0;32m---> 20\u001b[0;31m \u001b[0;32mif\u001b[0m \u001b[0mp\u001b[0m\u001b[0;34m.\u001b[0m\u001b[0mshape\u001b[0m\u001b[0;34m[\u001b[0m\u001b[0;36m2\u001b[0m\u001b[0;34m]\u001b[0m \u001b[0;34m==\u001b[0m \u001b[0;36m3\u001b[0m\u001b[0;34m:\u001b[0m\u001b[0;34m\u001b[0m\u001b[0m\n\u001b[0m\u001b[1;32m     21\u001b[0m     \u001b[0mcolored_pred\u001b[0m  \u001b[0;34m=\u001b[0m \u001b[0mp\u001b[0m\u001b[0;34m\u001b[0m\u001b[0m\n\u001b[1;32m     22\u001b[0m     \u001b[0mcolored_label\u001b[0m \u001b[0;34m=\u001b[0m \u001b[0minput_img\u001b[0m\u001b[0;34m\u001b[0m\u001b[0m\n",
      "\u001b[0;31mIndexError\u001b[0m: tuple index out of range"
     ]
    }
   ],
   "source": [
    "with tf.Session() as sess:\n",
    "    #latest = tf.train.latest_checkpoint(checkpoint_dir='../experiments/exp_seg_wo_skip/')\n",
    "    #latest = tf.train.latest_checkpoint(checkpoint_dir='../experiments/exp_seg_w_skip1by1_fixedlr/')\n",
    "    latest = tf.train.latest_checkpoint(checkpoint_dir='/datatmp/Experiments/belbarashy/exps/seg_comp_rgb_d_downby2/lambda_1.0/')\n",
    "    print(latest)\n",
    "    tf.train.Saver().restore(sess, save_path=latest)    \n",
    "    for i in range(5): #17\n",
    "        p,l, lats, input_img, dep = sess.run([predictions, labels, y, in_imgs, depth])\n",
    "    \n",
    "    #l = tf.reshape(l, shape=[-1])\n",
    "    #l = tf.one_hot(l, num_classes, on_value=1.0, off_value=0.0)\n",
    "    #print(one_hot_labels.shape)\n",
    "input_img = np.squeeze(input_img)\n",
    "print(l.shape)\n",
    "l = np.squeeze(l)\n",
    "print(p.shape)\n",
    "p = np.squeeze(p)\n",
    "print(l.shape)\n",
    "print(p.shape)\n",
    "if False:#p.shape[2] == 3:\n",
    "    colored_pred  = p\n",
    "    colored_label = input_img\n",
    "else:\n",
    "    p[l==255] = 255\n",
    "    colored_pred  = get_dataset_colormap.label_to_color_image(p, 'cityscapes')\n",
    "    colored_label = get_dataset_colormap.label_to_color_image(l, 'cityscapes')\n",
    "\n",
    "    \n",
    "plt.figure(figsize=(18, 18))\n",
    "plt.subplot(221)\n",
    "plt.imshow( colored_pred )\n",
    "plt.axis('off')\n",
    "plt.subplot(222)#\n",
    "plt.imshow( colored_label)\n",
    "plt.axis('off')"
   ]
  },
  {
   "cell_type": "code",
   "execution_count": null,
   "metadata": {},
   "outputs": [],
   "source": [
    "dep = np.squeeze(dep)\n",
    "print(dep.shape)\n",
    "plt.figure(figsize=(18, 18))\n",
    "plt.subplot(221)\n",
    "plt.imshow( input_img )\n",
    "plt.axis('off')\n",
    "plt.subplot(222)#\n",
    "plt.imshow( dep, cmap='jet')\n",
    "plt.axis('off')"
   ]
  },
  {
   "cell_type": "code",
   "execution_count": null,
   "metadata": {},
   "outputs": [],
   "source": [
    "plt.figure(figsize=(18, 18))\n",
    "plt.imshow( input_img )\n",
    "plt.axis('off')"
   ]
  },
  {
   "cell_type": "code",
   "execution_count": null,
   "metadata": {},
   "outputs": [],
   "source": [
    "import cv2\n",
    "#100 feats maps from 512\n",
    "#resized_input = cv2.resize(input_img,(int(input_img.shape[1]/16),int(input_img.shape[0]/16)))\n",
    "fig = plt.figure(figsize=(18, 9))\n",
    "nrows = ncols = 10\n",
    "for i in range(nrows*ncols):\n",
    "    f = lats[0,:,:,i]\n",
    "    #masked = resized_input.copy()\n",
    "    #masked[:,:,0] = resized_input[:,:,0] * f\n",
    "    #masked[:,:,1] = resized_input[:,:,1] * f\n",
    "    #masked[:,:,2] = resized_input[:,:,2] * f\n",
    "    plt.subplot(nrows, ncols, i+1)\n",
    "    #plt.imshow(masked/(100))\n",
    "    plt.imshow( f ,cmap='jet')\n",
    "    plt.axis('off')\n",
    "    fig.subplots_adjust(hspace=.05, wspace=.1)"
   ]
  }
 ],
 "metadata": {
  "kernelspec": {
   "display_name": "Python 3",
   "language": "python",
   "name": "python3"
  },
  "language_info": {
   "codemirror_mode": {
    "name": "ipython",
    "version": 3
   },
   "file_extension": ".py",
   "mimetype": "text/x-python",
   "name": "python",
   "nbconvert_exporter": "python",
   "pygments_lexer": "ipython3",
   "version": "3.5.2"
  }
 },
 "nbformat": 4,
 "nbformat_minor": 2
}
