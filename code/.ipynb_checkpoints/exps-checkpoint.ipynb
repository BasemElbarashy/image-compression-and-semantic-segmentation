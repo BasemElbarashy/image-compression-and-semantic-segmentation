{
 "cells": [
  {
   "cell_type": "code",
   "execution_count": 2,
   "metadata": {
    "scrolled": false
   },
   "outputs": [
    {
     "ename": "SyntaxError",
     "evalue": "invalid syntax (<ipython-input-2-e6fee3371e50>, line 84)",
     "output_type": "error",
     "traceback": [
      "\u001b[0;36m  File \u001b[0;32m\"<ipython-input-2-e6fee3371e50>\"\u001b[0;36m, line \u001b[0;32m84\u001b[0m\n\u001b[0;31m    RGB-D segmentation  fusion methods\u001b[0m\n\u001b[0m                     ^\u001b[0m\n\u001b[0;31mSyntaxError\u001b[0m\u001b[0;31m:\u001b[0m invalid syntax\n"
     ]
    }
   ],
   "source": [
    "from plot_graphs import plot_graphs\n",
    "baseline_1  = [ '../experiments/exp_synthiaSF_baseline_128/']\n",
    "baseline_2  = ['../experiments/exp_sun_baseline_128/']\n",
    "\n",
    "depth     = ['../experiments/exp_synthiaSF_depth_128_concatAtStart/',\n",
    "             '../experiments/exp_synthiaSF_depth_128_fusionAfterGDN1/',\n",
    "             '../experiments/exp_synthiaSF_depth_128_fusionAfterGDN1_allrelu/',\n",
    "             '../experiments/exp_synthiaSF_depth_128_fusionAfterGDN1_relu/',\n",
    "             '../experiments/exp_synthiaSF_depth_128_fusionAfterGDN1_SSMA_noBatchNorm/',\n",
    "             '../experiments/exp_synthiaSF_depth_128_fusionAfterGDN1_f32_corr/']\n",
    "\n",
    "#depth = ['../experiments/exp_synthiaSF_depth_128_fusionAfterGDN1_relu_depthWnoise/']\n",
    "#weighted_loss = ['../experiments/exp_synthiaSF_128_laplacian_weighted_loss/']\n",
    "\n",
    "\"\"\" ========================================================================================= \"\"\"\n",
    "exps_dir = '/datatmp/Experiments/belbarashy/exps/'\n",
    "#cityscapes = ['../experiments/test_100ksteps_500_val/']\n",
    "#cityscapes = ['../experiments/test_seg_comp/']\n",
    "cityscapes_com_rgb  = ['/datatmp/Experiments/belbarashy/exps/seg_arch_for_compAndReconsrurction/']\n",
    "\n",
    "cityscapes_seg_rgb = ['/datatmp/Experiments/belbarashy/exps/seg_com_rgb/']\n",
    "cityscapes_seg_depth = ['/datatmp/Experiments/belbarashy/exps/seg_com_depth/']\n",
    "cityscapes_seg_rgb_d = ['/datatmp/Experiments/belbarashy/exps/seg_com_rgb_d/']\n",
    "cityscapes_seg_rgb_d_by2 = ['/datatmp/Experiments/belbarashy/exps/seg_comp_rgb_d_downby2/']\n",
    "\n",
    "seg_wocomp_rgb_d_SSMA = ['/datatmp/Experiments/belbarashy/exps/seg_wocomp_rgbd/']\n",
    "seg_wocomp_rgb_d_conc = ['/datatmp/Experiments/belbarashy/exps/seg_wocomp_rgbd_concat/']\n",
    "seg_wocomp_rgb_d_sum = ['/datatmp/Experiments/belbarashy/exps/seg_wocomp_rgbd_sum/']\n",
    "\n",
    "cityscapes_seg_wocomp_depth = ['/datatmp/Experiments/belbarashy/exps/seg_wocomp_depth/']\n",
    "seg_com_reco_rgb_fixedlmbda2048 = ['/datatmp/Experiments/belbarashy/exps/seg_com_reco_rgb_fixedlmbda2048/']\n",
    "seg_com_reco_rgb_fixedlmbda512 = ['/datatmp/Experiments/belbarashy/exps/seg_com_reco_rgb_fixedlmbda512/']\n",
    "seg_com_reco_rgb_fixedlmbda8192 = ['/datatmp/Experiments/belbarashy/exps/seg_com_reco_rgb_fixedlmbda8192/']\n",
    "seg_com_reco_rgb_fixedlmbda128  = ['/datatmp/Experiments/belbarashy/exps/seg_com_reco_rgb_fixedlmbda128/']\n",
    "seg_com_reco_rgb_fixedlmbda16384 = ['/datatmp/Experiments/belbarashy/exps/seg_com_reco_rgb_fixedlmbda16384/']\n",
    "\n",
    "beta_0dot01 = ['/datatmp/Experiments/belbarashy/exps/beta_0.01/']\n",
    "beta_0dot1 = ['/datatmp/Experiments/belbarashy/exps/beta_0.1/']\n",
    "beta_1 = ['/datatmp/Experiments/belbarashy/exps/beta_1/']\n",
    "beta_10 =['/datatmp/Experiments/belbarashy/exps/beta_10/']\n",
    "beta_100 = ['/datatmp/Experiments/belbarashy/exps/beta_100/']\n",
    "\n",
    "\n",
    "\n",
    "#depth    = ['../experiments/exp_synthiaSF_depth_128/','../experiments/exp_synthiaSF_depth_192/']\n",
    "#baseline = ['../experiments/exp_synthiaSF_baseline_128/','../experiments/exp_synthiaSF_baseline_192/']\n",
    "#plot_graphs(expsDir= cityscapes_seg_rgb + cityscapes_seg_depth + cityscapes_seg_rgb_d + cityscapes_com_rgb, \n",
    "#            outDir='../experiments/')\n",
    "\n",
    "\n",
    "#plot_graphs(expsDir= cityscapes_seg_rgb_d + cityscapes_seg_rgb_d_by2,\n",
    "#            outDir= '../experiments/')   \n",
    "\n",
    "\n",
    "\n",
    "\n",
    "\"\"\"\n",
    "RGB-D reco\n",
    "\"\"\"\n",
    "#plot_graphs(expsDir=baseline_1+depth, outDir='../experiments/')\n",
    "\"\"\"\n",
    "RGB-D segmentation only Exp\n",
    "\"\"\"\n",
    "\n",
    "#plot_graphs(expsDir= cityscapes_seg_rgb_d+cityscapes_seg_rgb + cityscapes_seg_depth +cityscapes_seg_rgb_d_by2,\n",
    "#            outDir= '../experiments/')\n",
    "\n",
    "\"\"\"\n",
    "RGB-D segmentation & resonctruction Exp\n",
    "\"\"\"\n",
    " #\n",
    "\n",
    "plot_graphs(expsDir= seg_com_reco_rgb_fixedlmbda2048+seg_com_reco_rgb_fixedlmbda512+\n",
    "                     seg_com_reco_rgb_fixedlmbda8192+seg_com_reco_rgb_fixedlmbda128+\n",
    "                     seg_com_reco_rgb_fixedlmbda16384+cityscapes_seg_rgb,\n",
    "                outDir='../experiments/')   \n",
    "\"\"\"\n",
    "\n",
    "#cityscapes_com_rgb\n",
    "plot_graphs(expsDir= beta_0dot01+beta_0dot1+beta_1+beta_10+beta_100+cityscapes_seg_rgb,\n",
    "                     outDir='../experiments/')\n",
    "\"\"\"\n",
    "\"\"\"\n",
    "RGB-D segmentation  fusion methods\n",
    "\"\"\"\n",
    "#plot_graphs(expsDir= seg_wocomp_rgb_d_SSMA+seg_wocomp_rgb_d_conc+ seg_wocomp_rgb_d_sum, \n",
    "#                outDir='../experiments/')   \n",
    "\n"
   ]
  },
  {
   "cell_type": "code",
   "execution_count": null,
   "metadata": {},
   "outputs": [],
   "source": []
  }
 ],
 "metadata": {
  "kernelspec": {
   "display_name": "Python 3",
   "language": "python",
   "name": "python3"
  },
  "language_info": {
   "codemirror_mode": {
    "name": "ipython",
    "version": 3
   },
   "file_extension": ".py",
   "mimetype": "text/x-python",
   "name": "python",
   "nbconvert_exporter": "python",
   "pygments_lexer": "ipython3",
   "version": "3.5.2"
  }
 },
 "nbformat": 4,
 "nbformat_minor": 2
}
